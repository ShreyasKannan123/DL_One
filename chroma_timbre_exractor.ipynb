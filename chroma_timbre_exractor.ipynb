{
 "cells": [
  {
   "cell_type": "code",
   "execution_count": 5,
   "metadata": {},
   "outputs": [],
   "source": [
    "import librosa\n",
    "import numpy as np\n",
    "import matplotlib.pyplot as plt"
   ]
  },
  {
   "cell_type": "code",
   "execution_count": 2,
   "metadata": {},
   "outputs": [],
   "source": [
    "def extract_chroma_timbre(audio_file, hop_length=512, chroma_dim=12):\n",
    "    # Load the audio file\n",
    "    y, sr = librosa.load(audio_file)\n",
    "\n",
    "    # Extract chroma features\n",
    "    chroma = librosa.feature.chroma_stft(y=y, sr=sr, hop_length=hop_length, n_chroma=chroma_dim)\n",
    "\n",
    "    # Extract timbre features\n",
    "    mfcc = librosa.feature.mfcc(y=y, sr=sr, hop_length=hop_length, n_mfcc=chroma_dim)\n",
    "\n",
    "    # Calculate the number of beats\n",
    "    tempo, beat_frames = librosa.beat.beat_track(y=y, sr=sr, hop_length=hop_length)\n",
    "    num_beats = len(beat_frames)\n",
    "\n",
    "    # Initialize arrays to store per-beat chroma and timbre vectors\n",
    "    per_beat_chroma = np.zeros((num_beats, chroma_dim))\n",
    "    per_beat_timbre = np.zeros((num_beats, chroma_dim))\n",
    "\n",
    "    # Compute chroma and timbre vectors for each beat\n",
    "    for i, beat_start in enumerate(beat_frames[:-1]):\n",
    "        beat_end = beat_frames[i+1]\n",
    "        chroma_mean = np.mean(chroma[:, beat_start:beat_end], axis=1)\n",
    "        timbre_mean = np.mean(mfcc[:, beat_start:beat_end], axis=1)\n",
    "        per_beat_chroma[i] = chroma_mean\n",
    "        per_beat_timbre[i] = timbre_mean\n",
    "\n",
    "    return per_beat_chroma, per_beat_timbre"
   ]
  },
  {
   "cell_type": "code",
   "execution_count": 12,
   "metadata": {},
   "outputs": [
    {
     "name": "stdout",
     "output_type": "stream",
     "text": [
      "Chroma vectors shape: (585, 12)\n",
      "Timbre vectors shape: (585, 12)\n"
     ]
    }
   ],
   "source": [
    "audio_file = 'D:\\\\vs_code\\\\DL\\\\proj\\\\resources\\\\audio_files\\\\.wav\\\\Rachel_Platten_-_Fight_Song_CeeNaija.com_.wav'\n",
    "chroma_vectors, timbre_vectors = extract_chroma_timbre(audio_file)\n",
    "\n",
    "# Print the dimensions of the resulting arrays\n",
    "print(\"Chroma vectors shape:\", chroma_vectors.shape)\n",
    "print(\"Timbre vectors shape:\", timbre_vectors.shape)"
   ]
  }
 ],
 "metadata": {
  "kernelspec": {
   "display_name": "Python 3",
   "language": "python",
   "name": "python3"
  },
  "language_info": {
   "codemirror_mode": {
    "name": "ipython",
    "version": 3
   },
   "file_extension": ".py",
   "mimetype": "text/x-python",
   "name": "python",
   "nbconvert_exporter": "python",
   "pygments_lexer": "ipython3",
   "version": "3.11.7"
  }
 },
 "nbformat": 4,
 "nbformat_minor": 2
}
