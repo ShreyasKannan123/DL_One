{
 "cells": [
  {
   "cell_type": "code",
   "execution_count": 48,
   "metadata": {},
   "outputs": [],
   "source": [
    "import librosa\n",
    "import numpy as np\n",
    "from PIL import Image\n",
    "import os\n",
    "import math"
   ]
  },
  {
   "cell_type": "code",
   "execution_count": 37,
   "metadata": {},
   "outputs": [],
   "source": [
    "def generate_frequency_image(audio_file, target_segments):\n",
    "    y, sr = librosa.load(audio_file, sr=None)\n",
    "    audio_duration = librosa.get_duration(y=y, sr=sr)\n",
    "    segment_duration = audio_duration / target_segments\n",
    "    \n",
    "    samples_per_segment = int(sr * segment_duration)\n",
    "    total_segments = len(y) // samples_per_segment\n",
    "    \n",
    "    average_frequencies = []\n",
    "    \n",
    "    for i in range(total_segments):\n",
    "        segment = y[i * samples_per_segment: (i + 1) * samples_per_segment]\n",
    "        stft = np.abs(librosa.stft(segment, n_fft=32))\n",
    "        average_frequency = np.mean(librosa.feature.spectral_centroid(S=stft))\n",
    "        average_frequencies.append(average_frequency)\n",
    "    \n",
    "    # min_freq = min(average_frequencies)\n",
    "    # max_freq = max(average_frequencies)\n",
    "    # normalized_frequencies = [(freq - min_freq) / (max_freq - min_freq) * 255 for freq in average_frequencies]\n",
    "    # normalized_frequencies = [max(0, min(int(freq), 255)) for freq in normalized_frequencies]\n",
    "    \n",
    "    # size = int(np.sqrt(len(normalized_frequencies)))\n",
    "    # matrix = np.array(normalized_frequencies[:size**2]).reshape(size, size)\n",
    "    # image = Image.fromarray(matrix.astype(np.uint8), 'L')\n",
    "    # # image.save(f\"D:\\\\vs_code\\\\DL\\\\proj\\\\resources\\\\fma_img\\\\{j}.png\")\n",
    "    # print(f\"created image!\")\n",
    "    # return image\n",
    "    return average_frequencies"
   ]
  },
  {
   "cell_type": "code",
   "execution_count": 49,
   "metadata": {},
   "outputs": [],
   "source": [
    "def generate_frequency_image(audio_file, target_segments):\n",
    "    y, sr = librosa.load(audio_file, sr=None)\n",
    "    \n",
    "    audio_duration = librosa.get_duration(y=y, sr=sr)\n",
    "\n",
    "    segment_duration = audio_duration / target_segments\n",
    "    \n",
    "    samples_per_segment = sr * segment_duration\n",
    "    total_segments = int(len(y) // samples_per_segment)\n",
    "    # total_segments = int(math.ceil(len(y) / samples_per_segment))  # Ensure we cover the entire audio\n",
    "\n",
    "    \n",
    "    print(\"Total segments calculated:\", total_segments)\n",
    "    \n",
    "    average_frequencies = []\n",
    "    \n",
    "    for i in range(total_segments):\n",
    "        segment = y[i * samples_per_segment: (i + 1) * samples_per_segment]\n",
    "        stft = np.abs(librosa.stft(segment, n_fft=16))\n",
    "        average_frequency = np.mean(librosa.feature.spectral_centroid(S=stft))\n",
    "        average_frequencies.append(average_frequency)\n",
    "        \n",
    "\n",
    "    return average_frequencies"
   ]
  },
  {
   "cell_type": "code",
   "execution_count": 50,
   "metadata": {},
   "outputs": [
    {
     "name": "stdout",
     "output_type": "stream",
     "text": [
      "Total segments calculated: 50176\n"
     ]
    },
    {
     "ename": "TypeError",
     "evalue": "slice indices must be integers or None or have an __index__ method",
     "output_type": "error",
     "traceback": [
      "\u001b[1;31m---------------------------------------------------------------------------\u001b[0m",
      "\u001b[1;31mTypeError\u001b[0m                                 Traceback (most recent call last)",
      "Cell \u001b[1;32mIn[50], line 1\u001b[0m\n\u001b[1;32m----> 1\u001b[0m k \u001b[38;5;241m=\u001b[39m \u001b[43mgenerate_frequency_image\u001b[49m\u001b[43m(\u001b[49m\u001b[38;5;124;43mr\u001b[39;49m\u001b[38;5;124;43m\"\u001b[39;49m\u001b[38;5;124;43mD:\u001b[39;49m\u001b[38;5;124;43m\\\u001b[39;49m\u001b[38;5;124;43mvs_code\u001b[39;49m\u001b[38;5;124;43m\\\u001b[39;49m\u001b[38;5;124;43mDL\u001b[39;49m\u001b[38;5;124;43m\\\u001b[39;49m\u001b[38;5;124;43mproj\u001b[39;49m\u001b[38;5;124;43m\\\u001b[39;49m\u001b[38;5;124;43mresources\u001b[39;49m\u001b[38;5;124;43m\\\u001b[39;49m\u001b[38;5;124;43mfma_small_edited_truncated\u001b[39;49m\u001b[38;5;124;43m\\\u001b[39;49m\u001b[38;5;124;43m0.mp3\u001b[39;49m\u001b[38;5;124;43m\"\u001b[39;49m\u001b[43m,\u001b[49m\u001b[38;5;241;43m50176\u001b[39;49m\u001b[43m)\u001b[49m\n\u001b[0;32m      2\u001b[0m \u001b[38;5;28mlen\u001b[39m(k)\n",
      "Cell \u001b[1;32mIn[49], line 18\u001b[0m, in \u001b[0;36mgenerate_frequency_image\u001b[1;34m(audio_file, target_segments)\u001b[0m\n\u001b[0;32m     15\u001b[0m average_frequencies \u001b[38;5;241m=\u001b[39m []\n\u001b[0;32m     17\u001b[0m \u001b[38;5;28;01mfor\u001b[39;00m i \u001b[38;5;129;01min\u001b[39;00m \u001b[38;5;28mrange\u001b[39m(total_segments):\n\u001b[1;32m---> 18\u001b[0m     segment \u001b[38;5;241m=\u001b[39m \u001b[43my\u001b[49m\u001b[43m[\u001b[49m\u001b[43mi\u001b[49m\u001b[43m \u001b[49m\u001b[38;5;241;43m*\u001b[39;49m\u001b[43m \u001b[49m\u001b[43msamples_per_segment\u001b[49m\u001b[43m:\u001b[49m\u001b[43m \u001b[49m\u001b[43m(\u001b[49m\u001b[43mi\u001b[49m\u001b[43m \u001b[49m\u001b[38;5;241;43m+\u001b[39;49m\u001b[43m \u001b[49m\u001b[38;5;241;43m1\u001b[39;49m\u001b[43m)\u001b[49m\u001b[43m \u001b[49m\u001b[38;5;241;43m*\u001b[39;49m\u001b[43m \u001b[49m\u001b[43msamples_per_segment\u001b[49m\u001b[43m]\u001b[49m\n\u001b[0;32m     19\u001b[0m     stft \u001b[38;5;241m=\u001b[39m np\u001b[38;5;241m.\u001b[39mabs(librosa\u001b[38;5;241m.\u001b[39mstft(segment, n_fft\u001b[38;5;241m=\u001b[39m\u001b[38;5;241m16\u001b[39m))\n\u001b[0;32m     20\u001b[0m     average_frequency \u001b[38;5;241m=\u001b[39m np\u001b[38;5;241m.\u001b[39mmean(librosa\u001b[38;5;241m.\u001b[39mfeature\u001b[38;5;241m.\u001b[39mspectral_centroid(S\u001b[38;5;241m=\u001b[39mstft))\n",
      "\u001b[1;31mTypeError\u001b[0m: slice indices must be integers or None or have an __index__ method"
     ]
    }
   ],
   "source": [
    "k = generate_frequency_image(r\"D:\\vs_code\\DL\\proj\\resources\\fma_small_edited_truncated\\0.mp3\",50176)\n",
    "len(k)"
   ]
  },
  {
   "cell_type": "code",
   "execution_count": 19,
   "metadata": {},
   "outputs": [
    {
     "name": "stdout",
     "output_type": "stream",
     "text": [
      "done image 1\n",
      "done image 1\n",
      "done image 1\n",
      "done image 1\n",
      "done image 1\n",
      "done image 1\n",
      "done image 1\n",
      "done image 1\n",
      "done image 1\n",
      "done image 1\n"
     ]
    }
   ],
   "source": [
    "folder_path = r\"D:\\vs_code\\DL\\proj\\resources\\fma_small_edited_truncated\"\n",
    "\n",
    "for i, filename in enumerate(os.listdir(folder_path)):\n",
    "    if filename.endswith(\".mp3\"):\n",
    "        file_path = os.path.join(folder_path, filename)\n",
    "        image = generate_frequency_image(file_path, target_segments=50176)\n",
    "        image.save(f\"D:\\\\vs_code\\\\DL\\\\proj\\\\resources\\\\fma_img\\\\{i}.png\")\n"
   ]
  }
 ],
 "metadata": {
  "kernelspec": {
   "display_name": "Python 3",
   "language": "python",
   "name": "python3"
  },
  "language_info": {
   "codemirror_mode": {
    "name": "ipython",
    "version": 3
   },
   "file_extension": ".py",
   "mimetype": "text/x-python",
   "name": "python",
   "nbconvert_exporter": "python",
   "pygments_lexer": "ipython3",
   "version": "3.11.7"
  }
 },
 "nbformat": 4,
 "nbformat_minor": 2
}
