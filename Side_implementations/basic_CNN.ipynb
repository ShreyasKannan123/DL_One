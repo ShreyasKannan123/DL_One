{
 "cells": [
  {
   "cell_type": "code",
   "execution_count": 14,
   "metadata": {},
   "outputs": [],
   "source": [
    "import os\n",
    "import numpy as np\n",
    "import torch\n",
    "import torch.nn as nn\n",
    "import torch.optim as optim\n",
    "import librosa\n",
    "import librosa.display\n",
    "from sklearn.model_selection import train_test_split\n",
    "from torch.utils.data import DataLoader\n",
    "from sklearn.model_selection import KFold\n"
   ]
  },
  {
   "cell_type": "code",
   "execution_count": 2,
   "metadata": {},
   "outputs": [
    {
     "data": {
      "text/plain": [
       "device(type='cuda')"
      ]
     },
     "execution_count": 2,
     "metadata": {},
     "output_type": "execute_result"
    }
   ],
   "source": [
    "device = torch.device(\"cuda\" if torch.cuda.is_available() else \"cpu\")\n",
    "device"
   ]
  },
  {
   "cell_type": "code",
   "execution_count": 11,
   "metadata": {},
   "outputs": [],
   "source": [
    "def load_data(data_folder):\n",
    "    file_list = os.listdir(data_folder)\n",
    "    data = []\n",
    "    labels = []\n",
    "    for filename in file_list:\n",
    "        filepath = os.path.join(data_folder, filename)\n",
    "        # Load audio file\n",
    "        audio, sr = librosa.load(filepath, sr=44100)  # Adjust the sampling rate as needed\n",
    "        # Convert audio to spectrogram\n",
    "        spectrogram = librosa.feature.melspectrogram(y=audio, sr=sr)\n",
    "        spectrogram = librosa.power_to_db(spectrogram, ref=np.max)\n",
    "        data.append(spectrogram)\n",
    "        labels.append(int(filename.split('.')[0]))  # Assuming filenames are numbered as described\n",
    "    return data, np.array(labels)  # Convert labels to numpy array"
   ]
  },
  {
   "cell_type": "code",
   "execution_count": 9,
   "metadata": {},
   "outputs": [],
   "source": [
    "def pad_spectrograms(spectrograms):\n",
    "    max_len = max(spec.shape[1] for spec in spectrograms)\n",
    "    padded_specs = []\n",
    "    for spec in spectrograms:\n",
    "        pad_len = max_len - spec.shape[1]\n",
    "        padded_spec = np.pad(spec, ((0, 0), (0, pad_len)), mode='constant')\n",
    "        padded_specs.append(padded_spec)\n",
    "    return padded_specs"
   ]
  },
  {
   "cell_type": "code",
   "execution_count": 5,
   "metadata": {},
   "outputs": [],
   "source": [
    "def create_model(input_shape, num_classes):\n",
    "    model = nn.Sequential(\n",
    "        nn.Conv2d(1, 32, kernel_size=(3, 3), padding=(1, 1)),\n",
    "        nn.ReLU(),\n",
    "        nn.MaxPool2d(kernel_size=2),\n",
    "        nn.Conv2d(32, 64, kernel_size=(3, 3), padding=(1, 1)),\n",
    "        nn.ReLU(),\n",
    "        nn.MaxPool2d(kernel_size=2),\n",
    "        nn.Flatten(),\n",
    "        nn.Linear(64 * (input_shape[0] // 4) * (input_shape[1] // 4), 128),\n",
    "        nn.ReLU(),\n",
    "        nn.Linear(128, num_classes)\n",
    "    )\n",
    "    return model"
   ]
  },
  {
   "cell_type": "code",
   "execution_count": 6,
   "metadata": {},
   "outputs": [],
   "source": [
    "def train_model(model, train_loader, criterion, optimizer, num_epochs=10):\n",
    "    for epoch in range(num_epochs):\n",
    "        model.train()\n",
    "        running_loss = 0.0\n",
    "        for inputs, labels in train_loader:\n",
    "            optimizer.zero_grad()\n",
    "            outputs = model(inputs)\n",
    "            loss = criterion(outputs, labels)\n",
    "            loss.backward()\n",
    "            optimizer.step()\n",
    "            running_loss += loss.item()\n",
    "        print(f\"Epoch {epoch+1}, Loss: {running_loss / len(train_loader)}\")"
   ]
  },
  {
   "cell_type": "code",
   "execution_count": 7,
   "metadata": {},
   "outputs": [],
   "source": [
    "def evaluate_model(model, test_loader):\n",
    "    model.eval()\n",
    "    correct = 0\n",
    "    total = 0\n",
    "    with torch.no_grad():\n",
    "        for inputs, labels in test_loader:\n",
    "            outputs = model(inputs)\n",
    "            _, predicted = torch.max(outputs, 1)\n",
    "            total += labels.size(0)\n",
    "            correct += (predicted == labels).sum().item()\n",
    "\n",
    "    accuracy = (correct / total) * 100\n",
    "    print(f\"Accuracy on test set: {accuracy}%\")\n",
    "    return accuracy"
   ]
  },
  {
   "cell_type": "code",
   "execution_count": 15,
   "metadata": {},
   "outputs": [
    {
     "name": "stdout",
     "output_type": "stream",
     "text": [
      "Fold 1/5\n",
      "Epoch 1, Loss: 4.092637538909912\n",
      "Epoch 2, Loss: 1309.659912109375\n",
      "Epoch 3, Loss: 1775.8828125\n",
      "Epoch 4, Loss: 1170.735107421875\n",
      "Epoch 5, Loss: 972.8038330078125\n",
      "Epoch 6, Loss: 688.670654296875\n",
      "Epoch 7, Loss: 367.48779296875\n",
      "Epoch 8, Loss: 149.6774139404297\n",
      "Epoch 9, Loss: 37.54979705810547\n",
      "Epoch 10, Loss: 39.79206848144531\n",
      "Accuracy on test set: 0.0%\n",
      "Fold 2/5\n",
      "Epoch 1, Loss: 73.35342407226562\n",
      "Epoch 2, Loss: 30.14513397216797\n",
      "Epoch 3, Loss: 15.916583061218262\n",
      "Epoch 4, Loss: 6.105024814605713\n",
      "Epoch 5, Loss: 2.916755199432373\n",
      "Epoch 6, Loss: 0.20061416923999786\n",
      "Epoch 7, Loss: 0.05822592228651047\n",
      "Epoch 8, Loss: 0.1661190241575241\n",
      "Epoch 9, Loss: 0.03883408010005951\n",
      "Epoch 10, Loss: 0.06223553419113159\n",
      "Accuracy on test set: 50.0%\n",
      "Fold 3/5\n",
      "Epoch 1, Loss: 0.2935710847377777\n",
      "Epoch 2, Loss: 0.1811506748199463\n",
      "Epoch 3, Loss: 0.08751821517944336\n",
      "Epoch 4, Loss: 0.040061503648757935\n",
      "Epoch 5, Loss: 0.01561435405164957\n",
      "Epoch 6, Loss: 0.004152162931859493\n",
      "Epoch 7, Loss: 0.0009464593604207039\n",
      "Epoch 8, Loss: 0.00028937641764059663\n",
      "Epoch 9, Loss: 3.5997392842546105e-05\n",
      "Epoch 10, Loss: 1.4007059689902235e-06\n",
      "Accuracy on test set: 100.0%\n",
      "Fold 4/5\n",
      "Epoch 1, Loss: 1.1160744179505855e-05\n",
      "Epoch 2, Loss: 3.188820528521319e-06\n",
      "Epoch 3, Loss: 0.0003882438177242875\n",
      "Epoch 4, Loss: 0.09917417168617249\n",
      "Epoch 5, Loss: 0.5944221615791321\n",
      "Epoch 6, Loss: 6.206313264556229e-05\n",
      "Epoch 7, Loss: 0.006300346925854683\n",
      "Epoch 8, Loss: 0.35587647557258606\n",
      "Epoch 9, Loss: 8.4135819633957e-05\n",
      "Epoch 10, Loss: 7.273399387486279e-05\n",
      "Accuracy on test set: 100.0%\n",
      "Fold 5/5\n",
      "Epoch 1, Loss: 0.00025776756228879094\n",
      "Epoch 2, Loss: 0.001279708230867982\n",
      "Epoch 3, Loss: 0.0026126180309802294\n",
      "Epoch 4, Loss: 0.002481734612956643\n",
      "Epoch 5, Loss: 0.0018826266750693321\n",
      "Epoch 6, Loss: 0.0019307220354676247\n",
      "Epoch 7, Loss: 0.0022299522534012794\n",
      "Epoch 8, Loss: 0.0020421468652784824\n",
      "Epoch 9, Loss: 0.0015504049370065331\n",
      "Epoch 10, Loss: 0.001096168882213533\n",
      "Accuracy on test set: 100.0%\n",
      "Average accuracy across all folds: 70.0%\n"
     ]
    }
   ],
   "source": [
    "# Load data\n",
    "data, labels = load_data('D:\\\\vs_code\\\\DL\\\\proj\\\\resources\\\\fma_small_edited_truncated')  # Specify your data folder path\n",
    "padded_data = pad_spectrograms(data)\n",
    "\n",
    "# Split data into train and test sets\n",
    "X = torch.tensor(padded_data, dtype=torch.float32).unsqueeze(1)  # Add channel dimension\n",
    "y = torch.tensor(labels, dtype=torch.long)  # Convert to torch.long type\n",
    "\n",
    "# Initialize the model\n",
    "input_shape = X.shape[2:]\n",
    "num_classes = len(np.unique(labels))  # Number of unique classes in the labels\n",
    "model = create_model(input_shape, num_classes)\n",
    "\n",
    "# Define loss function and optimizer\n",
    "criterion = nn.CrossEntropyLoss()\n",
    "optimizer = optim.Adam(model.parameters(), lr=0.001)\n",
    "\n",
    "# Perform k-fold cross-validation\n",
    "kf = KFold(n_splits=5, shuffle=True, random_state=42)\n",
    "accuracies = []\n",
    "for fold, (train_index, test_index) in enumerate(kf.split(X)):\n",
    "    print(f\"Fold {fold+1}/{kf.n_splits}\")\n",
    "\n",
    "    # Split data into train and test sets for this fold\n",
    "    X_train, X_test = X[train_index], X[test_index]\n",
    "    y_train, y_test = y[train_index], y[test_index]\n",
    "\n",
    "    # Create DataLoader for train and test sets\n",
    "    train_loader = DataLoader(list(zip(X_train, y_train)), batch_size=32, shuffle=True)\n",
    "    test_loader = DataLoader(list(zip(X_test, y_test)), batch_size=32)\n",
    "\n",
    "    # Train the model\n",
    "    train_model(model, train_loader, criterion, optimizer)\n",
    "\n",
    "    # Evaluate the model\n",
    "    accuracy = evaluate_model(model, test_loader)\n",
    "    accuracies.append(accuracy)\n",
    "\n",
    "# Calculate and print average accuracy\n",
    "avg_accuracy = np.mean(accuracies)\n",
    "print(f\"Average accuracy across all folds: {avg_accuracy}%\")"
   ]
  }
 ],
 "metadata": {
  "kernelspec": {
   "display_name": "Python 3",
   "language": "python",
   "name": "python3"
  },
  "language_info": {
   "codemirror_mode": {
    "name": "ipython",
    "version": 3
   },
   "file_extension": ".py",
   "mimetype": "text/x-python",
   "name": "python",
   "nbconvert_exporter": "python",
   "pygments_lexer": "ipython3",
   "version": "3.11.7"
  }
 },
 "nbformat": 4,
 "nbformat_minor": 2
}
